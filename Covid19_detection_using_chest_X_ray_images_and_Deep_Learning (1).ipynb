{
  "nbformat": 4,
  "nbformat_minor": 0,
  "metadata": {
    "colab": {
      "name": "Covid19 detection using chest X-ray images and Deep Learning.ipynb",
      "provenance": [],
      "collapsed_sections": [],
      "toc_visible": true
    },
    "kernelspec": {
      "name": "python3",
      "display_name": "Python 3"
    },
    "accelerator": "GPU"
  },
  "cells": [
    {
      "cell_type": "markdown",
      "metadata": {
        "id": "jrRvl-_u79Yu",
        "colab_type": "text"
      },
      "source": [
        "# **Covid19 detection using chest X-ray images and Deep Learning**"
      ]
    },
    {
      "cell_type": "code",
      "metadata": {
        "id": "xluAMCZG7Vc_",
        "colab_type": "code",
        "colab": {}
      },
      "source": [
        "import os\n",
        "os.environ[\"CUDA_DEVICE_ORDER\"] = \"PCI_BUS_ID\" \n",
        "os.environ['CUDA_VISIBLE_DEVICES']=\"\"\n",
        "\n",
        "\n",
        "import tensorflow as tf\n",
        "import keras\n",
        "\n",
        "from keras.preprocessing.image import ImageDataGenerator\n",
        "from tensorflow.keras.applications import VGG16,InceptionV3,ResNet50, MobileNetV2\n",
        "from keras.applications.vgg16 import preprocess_input\n",
        "#from keras.applications.mobilenetv2 import preprocess_input\n",
        "#from keras.applications.resnet50 import preprocess_input\n",
        "from keras.preprocessing import image\n",
        "from tensorflow.keras.layers import AveragePooling2D, Dropout,Flatten, Dense, Input\n",
        "from tensorflow.keras.models import Model\n",
        "from tensorflow.keras.optimizers import Adam\n",
        "from tensorflow.keras.utils import to_categorical\n",
        "from sklearn.preprocessing import LabelBinarizer\n",
        "from sklearn.model_selection import train_test_split\n",
        "from sklearn.metrics import classification_report, confusion_matrix\n",
        "import matplotlib.pyplot as plt\n",
        "import numpy as np\n",
        "import argparse\n",
        "import cv2\n",
        "import os\n",
        "import pandas as pd\n",
        "from PIL import Image\n"
      ],
      "execution_count": 0,
      "outputs": []
    },
    {
      "cell_type": "markdown",
      "metadata": {
        "id": "LU_Vl43FNT7l",
        "colab_type": "text"
      },
      "source": [
        "# ***Import data ***"
      ]
    },
    {
      "cell_type": "code",
      "metadata": {
        "id": "NzVEclRTNYgm",
        "colab_type": "code",
        "colab": {}
      },
      "source": [
        "from google.colab import auth\n",
        "auth.authenticate_user()\n",
        "from oauth2client.client import GoogleCredentials\n",
        "creds = GoogleCredentials.get_application_default()\n",
        "\n"
      ],
      "execution_count": 0,
      "outputs": []
    },
    {
      "cell_type": "code",
      "metadata": {
        "id": "qRrbNTN9oktO",
        "colab_type": "code",
        "colab": {}
      },
      "source": [
        "!unzip /content/covid-chestxray-dataset-master.zip"
      ],
      "execution_count": 0,
      "outputs": []
    },
    {
      "cell_type": "markdown",
      "metadata": {
        "id": "5_Rdi3e18a2k",
        "colab_type": "text"
      },
      "source": [
        "# ***DATASET ***"
      ]
    },
    {
      "cell_type": "code",
      "metadata": {
        "id": "knE1hOWT8mOS",
        "colab_type": "code",
        "colab": {}
      },
      "source": [
        "train_path = \"/content/train_generator/train\"\n",
        "test_path = \"/content/train_generator/test\""
      ],
      "execution_count": 0,
      "outputs": []
    },
    {
      "cell_type": "markdown",
      "metadata": {
        "id": "AL4XArlh8v6v",
        "colab_type": "text"
      },
      "source": [
        "# **Creating Train and Test Data Generators ** ****"
      ]
    },
    {
      "cell_type": "code",
      "metadata": {
        "id": "bgeMmQHq88V8",
        "colab_type": "code",
        "colab": {}
      },
      "source": [
        "train_datagen = ImageDataGenerator(rescale=1./255,\n",
        " rotation_range=20,\n",
        " featurewise_center = True,\n",
        " featurewise_std_normalization = True,\n",
        " width_shift_range=0.2,\n",
        " height_shift_range=0.2,\n",
        " shear_range=0.25,\n",
        " zoom_range=0.1,\n",
        " zca_whitening = True,\n",
        " channel_shift_range = 20,\n",
        " horizontal_flip = True ,\n",
        " vertical_flip = True ,\n",
        " validation_split = 0.2)\n",
        "\n",
        "test_datagen = ImageDataGenerator(rescale = 1./255)\n",
        "\n",
        "train_generator = train_datagen.flow_from_directory(train_path, target_size = (224, 224),\n",
        "    shuffle=True,seed=42,class_mode=\"categorical\", color_mode = 'rgb', batch_size = 16)\n",
        "test_generator = test_datagen.flow_from_directory(test_path,\n",
        "    target_size = (224, 224),\n",
        "    color_mode = 'rgb',\n",
        "    batch_size = 1,seed=42,class_mode=\"categorical\",\n",
        "    shuffle = False)"
      ],
      "execution_count": 0,
      "outputs": []
    },
    {
      "cell_type": "markdown",
      "metadata": {
        "id": "M7NjCM_R9Mu5",
        "colab_type": "text"
      },
      "source": [
        "# **Using Transfer learning and downloading the weights of VGG16**"
      ]
    },
    {
      "cell_type": "code",
      "metadata": {
        "id": "aMkukH-s9S2G",
        "colab_type": "code",
        "colab": {}
      },
      "source": [
        "basemodel = VGG16(weights=\"imagenet\", include_top=False,input_tensor=Input(shape=(224, 224, 3)))"
      ],
      "execution_count": 0,
      "outputs": []
    },
    {
      "cell_type": "markdown",
      "metadata": {
        "id": "ggA0gFG-9dec",
        "colab_type": "text"
      },
      "source": [
        "# **Caracteristic model**"
      ]
    },
    {
      "cell_type": "code",
      "metadata": {
        "id": "GbBHM5va9kne",
        "colab_type": "code",
        "colab": {}
      },
      "source": [
        "headModel = basemodel.output\n",
        "headModel = AveragePooling2D(pool_size=(4, 4))(headModel)#pool_size=(4, 4)\n",
        "headModel = Flatten(name=\"flatten\")(headModel)\n",
        "#headModel = Dropout(0.5)(headModel)\n",
        "headModel = Dense(256, activation=\"relu\")(headModel)\n",
        "headModel = Dropout(0.5)(headModel)\n",
        "#headModel = Dense(256, activation=\"relu\")(headModel)\n",
        "#headModel = Dropout(0.3)(headModel)\n",
        "headModel = Dense(2, activation=\"softmax\")(headModel)\n",
        "\n",
        "model = Model(inputs=basemodel.input, outputs=headModel)\n",
        "\n",
        "for layer in basemodel.layers:\n",
        "    layer.trainable = False\n",
        "    \n",
        "epochs= 100\n",
        "lr = 1e-4\n",
        "BS = 16"
      ],
      "execution_count": 0,
      "outputs": []
    },
    {
      "cell_type": "markdown",
      "metadata": {
        "id": "7bArOChh9yKG",
        "colab_type": "text"
      },
      "source": [
        "# **Compilation**"
      ]
    },
    {
      "cell_type": "code",
      "metadata": {
        "id": "uaczf__V92ez",
        "colab_type": "code",
        "colab": {}
      },
      "source": [
        "model.compile(loss=\"categorical_crossentropy\", optimizer=Adam(lr=1e-4,decay=lr/epochs),metrics=[\"accuracy\"])\n",
        "\n",
        "#history = model.fit_generator(train_datagen.flow(X_train, Y_train, batch_size=BS),steps_per_epoch=len(X_train) // BS,validation_data=(X_test, Y_test),validation_steps=len(X_test) // BS,epochs=epochs)\n",
        "model.fit_generator(train_generator,\n",
        "                    steps_per_epoch = 270//BS,\n",
        "                    epochs = epochs,\n",
        "                    validation_data = test_generator,\n",
        "                    validation_steps = 36//BS)\n"
      ],
      "execution_count": 0,
      "outputs": []
    },
    {
      "cell_type": "markdown",
      "metadata": {
        "id": "jomZ0LjsqgM9",
        "colab_type": "text"
      },
      "source": [
        ""
      ]
    },
    {
      "cell_type": "markdown",
      "metadata": {
        "id": "5OPA-xJuqovA",
        "colab_type": "text"
      },
      "source": [
        "# Evaluation "
      ]
    },
    {
      "cell_type": "code",
      "metadata": {
        "id": "qLHXSrJiqiVe",
        "colab_type": "code",
        "colab": {}
      },
      "source": [
        "#x = model.evaluate_generator(test_generator, steps = np.ceil(len(test_generator) // BS),\n",
        "x = model.evaluate_generator(test_generator, steps = np.ceil(len(test_generator)),\n",
        " use_multiprocessing = False,\n",
        " verbose = 1,\n",
        " workers=1\n",
        " )\n"
      ],
      "execution_count": 0,
      "outputs": []
    },
    {
      "cell_type": "markdown",
      "metadata": {
        "id": "RFWWV8OorNoY",
        "colab_type": "text"
      },
      "source": [
        "# **Prediction**"
      ]
    },
    {
      "cell_type": "code",
      "metadata": {
        "id": "W5fs8BRVrduV",
        "colab_type": "code",
        "colab": {}
      },
      "source": [
        "pred = model.predict_generator(test_generator,1000,verbose=1)\n",
        "print(\"Predictions finished\")\n",
        "import cv2\n",
        "import matplotlib.image as mpimg\n",
        "for index, probability in enumerate(pred):\n",
        " image_path = test_path + \"/\" +test_generator.filenames[index]\n",
        " image = mpimg.imread(image_path)\n",
        " #BGR TO RGB conversion using CV2\n",
        " image = cv2.cvtColor(image, cv2.COLOR_BGR2RGB)\n",
        " pixels = np.array(image)\n",
        " plt.imshow(pixels)\n",
        " print(\"prob:{}\".format(probability))\n",
        " print(test_generator.filenames[index])\n",
        " if probability[1] > 0.5:\n",
        "     plt.title('%.2f' % (probability[1]*100) + '% Other')\n",
        " else:\n",
        "     plt.title('%.2f' % ((1-probability[1])*100) + '% COVID-19')\n",
        " plt.show()"
      ],
      "execution_count": 0,
      "outputs": []
    },
    {
      "cell_type": "markdown",
      "metadata": {
        "id": "zPDgyMP0tc_I",
        "colab_type": "text"
      },
      "source": [
        "# ***Test par image ***"
      ]
    },
    {
      "cell_type": "code",
      "metadata": {
        "id": "hlyISBjjtmyf",
        "colab_type": "code",
        "colab": {}
      },
      "source": [
        "image_test = Image.open(\"/content/test_generator/COVID-19/COVID-19-1.jpeg\").convert('RGB')\n",
        "image_test = image_test.resize((224,224))\n",
        "data_test = np.asarray(image_test)\n",
        "img = np.reshape(data_test,[1,224,224,3])\n",
        "\n",
        "plt.imshow(image_test)\n",
        "model.predict(img).tolist()"
      ],
      "execution_count": 0,
      "outputs": []
    },
    {
      "cell_type": "markdown",
      "metadata": {
        "id": "nrLwMzE999Yg",
        "colab_type": "text"
      },
      "source": [
        ""
      ]
    },
    {
      "cell_type": "markdown",
      "metadata": {
        "id": "6jj9TvyYOX48",
        "colab_type": "text"
      },
      "source": [
        ""
      ]
    }
  ]
}